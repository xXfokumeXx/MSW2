{
 "cells": [
  {
   "cell_type": "code",
   "execution_count": 23,
   "metadata": {},
   "outputs": [],
   "source": [
    "from numpy import *\n",
    "import numpy as np\n",
    "from scipy import integrate"
   ]
  },
  {
   "cell_type": "code",
   "execution_count": 64,
   "metadata": {},
   "outputs": [
    {
     "name": "stdout",
     "output_type": "stream",
     "text": [
      "integrace obdelnikovou metodou: 15.5\n",
      "integrace lichobeznikovou metodou: 15.50005101520253\n",
      "integrace rombergovou metodou: 15.5\n",
      "\n",
      "integrace obdelnikovou metodou: 2.1819730701192612\n",
      "integrace lichobeznikovou metodou: 2.181949875965299\n",
      "integrace rombergovou metodou: 2.1819730701192612\n",
      "\n",
      "integrace obdelnikovou metodou: 1.7182818284590453\n",
      "integrace lichobeznikovou metodou: 1.7182964381834482\n",
      "integrace rombergovou metodou: 1.7182818284590453\n",
      "\n"
     ]
    }
   ],
   "source": [
    "a = 0 #dolni hranice\n",
    "b = 1 #horni hranice\n",
    "\n",
    "\n",
    "def polyf(x):\n",
    "    return 3*x**2 + 5*x + 12\n",
    "    \n",
    "def harmf(x):\n",
    "    return 3*cos(x)**2\n",
    "\n",
    "def expf(x):\n",
    "    return 3**(6*x) + 2**x\n",
    "\n",
    "#numerické metody pro vypočet integralu:\n",
    "def obdelnikova_metoda(fce, start, end):\n",
    "    return integrate.quad(fce, start, end)\n",
    "\n",
    "def lichobeznikova_metoda(fce, start, end, n = 100):\n",
    "    return integrate.trapezoid(fce(np.linspace(start, end, n)), np.linspace(start, end, n))\n",
    "\n",
    "def rombergova_metoda(fce, start, end):\n",
    "    return integrate.romberg(fce, start, end)\n",
    "\n",
    "#polynom fce\n",
    "print(f\"integrace obdelnikovou metodou: {obdelnikova_metoda(polyf, a, b)[0]}\")\n",
    "print(f\"integrace lichobeznikovou metodou: {lichobeznikova_metoda(polyf, a, b)}\")\n",
    "print(f\"integrace rombergovou metodou: {obdelnikova_metoda(polyf, a, b)[0]}\\n\")\n",
    "#harmo fce\n",
    "print(f\"integrace obdelnikovou metodou: {obdelnikova_metoda(harmf, a, b)[0]}\")\n",
    "print(f\"integrace lichobeznikovou metodou: {lichobeznikova_metoda(harmf, a, b)}\")\n",
    "print(f\"integrace rombergovou metodou: {obdelnikova_metoda(harmf, a, b)[0]}\\n\")\n",
    "#exp fce\n",
    "print(f\"integrace obdelnikovou metodou: {obdelnikova_metoda(exp, a, b)[0]}\")\n",
    "print(f\"integrace lichobeznikovou metodou: {lichobeznikova_metoda(exp, a, b)}\")\n",
    "print(f\"integrace rombergovou metodou: {obdelnikova_metoda(exp, a, b)[0]}\\n\")"
   ]
  }
 ],
 "metadata": {
  "kernelspec": {
   "display_name": "venv",
   "language": "python",
   "name": "python3"
  },
  "language_info": {
   "codemirror_mode": {
    "name": "ipython",
    "version": 3
   },
   "file_extension": ".py",
   "mimetype": "text/x-python",
   "name": "python",
   "nbconvert_exporter": "python",
   "pygments_lexer": "ipython3",
   "version": "3.9.1"
  },
  "orig_nbformat": 4
 },
 "nbformat": 4,
 "nbformat_minor": 2
}

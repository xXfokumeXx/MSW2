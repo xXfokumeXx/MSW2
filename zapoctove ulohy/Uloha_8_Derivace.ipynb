{
 "cells": [
  {
   "cell_type": "code",
   "execution_count": 21,
   "metadata": {},
   "outputs": [
    {
     "name": "stdout",
     "output_type": "stream",
     "text": [
      "Derivace funkce x**2:\n",
      "pro x0 = 1, delta_x = 0.001:\n",
      "dopredna: 2.0009999999996975, zpetna: 1.998999999999973, centralni: 1.999999999999835e-06\n",
      "pro x0 = 1, delta_x = 0.5:\n",
      "dopredna: 2.5, zpetna: 1.5, centralni: 0.5\n"
     ]
    }
   ],
   "source": [
    "def f(x):\n",
    "    return (x**2)\n",
    "\n",
    "def dopredna_der(f, x0, delta_x):\n",
    "    return (f(x0+delta_x) - f(x0))/delta_x\n",
    "\n",
    "def zpetna_der(f, x0, delta_x):\n",
    "    return (f(x0) - f(x0-delta_x))/delta_x\n",
    "\n",
    "def central_der(f, x0, delta_x):\n",
    "    return (f(x0+delta_x) - f(x0-delta_x))/2*delta_x\n",
    "\n",
    "funkce = \"x**2\"\n",
    "x0 = 1\n",
    "delta_x = 0.001\n",
    "\n",
    "print(f\"Derivace funkce {funkce}:\")\n",
    "dopredna = dopredna_der(f, x0, delta_x)\n",
    "zpetna = zpetna_der(f, x0, delta_x)\n",
    "centralni = central_der(f, x0, delta_x)\n",
    "\n",
    "delta_x_dynamic = float(input(\"Zadej dynamicky krok\"))\n",
    "dopredna_dynamicka = dopredna_der(f, x0, delta_x_dynamic)\n",
    "zpetna_dynamicka = zpetna_der(f, x0, delta_x_dynamic)\n",
    "centralni_dynamicka = central_der(f, x0, delta_x_dynamic)\n",
    "print(f\"pro x0 = {x0}, delta_x = {delta_x}:\")\n",
    "print(f\"dopredna: {dopredna}, zpetna: {zpetna}, centralni: {centralni}\")\n",
    "print(f\"pro x0 = {x0}, delta_x = {delta_x_dynamic}:\")\n",
    "print(f\"dopredna: {dopredna_dynamicka}, zpetna: {zpetna_dynamicka}, centralni: {centralni_dynamicka}\")\n",
    "\n",
    "\n"
   ]
  }
 ],
 "metadata": {
  "kernelspec": {
   "display_name": "venv",
   "language": "python",
   "name": "python3"
  },
  "language_info": {
   "codemirror_mode": {
    "name": "ipython",
    "version": 3
   },
   "file_extension": ".py",
   "mimetype": "text/x-python",
   "name": "python",
   "nbconvert_exporter": "python",
   "pygments_lexer": "ipython3",
   "version": "3.9.1"
  },
  "orig_nbformat": 4
 },
 "nbformat": 4,
 "nbformat_minor": 2
}

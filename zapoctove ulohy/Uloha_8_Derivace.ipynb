{
 "cells": [
  {
   "cell_type": "code",
   "execution_count": 34,
   "metadata": {},
   "outputs": [
    {
     "name": "stdout",
     "output_type": "stream",
     "text": [
      "Derivace funkce x**2:\n",
      "pro x0 = 5, delta_x = 0.001:\n",
      "dopredna: 75.0150010000, zpetna: 74.9850010000, centralni: 75.0000010000\n",
      "pro x0 = 5, delta_x = 1e-09:\n",
      "dynamicka dopredna: 75.0000026528, dynamicka zpetna: 75.0000026528, dynamicka centralni: 75.0000026528\n"
     ]
    }
   ],
   "source": [
    "def f(x):\n",
    "    return (x**3 + 5)\n",
    "\n",
    "def dopredna_der(f, x0, delta_x):\n",
    "    return (f(x0+delta_x) - f(x0))/delta_x\n",
    "\n",
    "def zpetna_der(f, x0, delta_x):\n",
    "    return (f(x0) - f(x0-delta_x))/delta_x\n",
    "\n",
    "def central_der(f, x0, delta_x):\n",
    "    return (f(x0+delta_x) - f(x0-delta_x))/(2*delta_x)\n",
    "\n",
    "funkce = \"x**2\"\n",
    "x0 = 5\n",
    "delta_x = 0.001\n",
    "\n",
    "print(f\"Derivace funkce {funkce}:\")\n",
    "dopredna = dopredna_der(f, x0, delta_x)\n",
    "zpetna = zpetna_der(f, x0, delta_x)\n",
    "centralni = central_der(f, x0, delta_x)\n",
    "\n",
    "delta_x_dynamic = float(input(\"Zadej dynamicky krok\"))\n",
    "dopredna_dynamicka = dopredna_der(f, x0, delta_x_dynamic)\n",
    "zpetna_dynamicka = zpetna_der(f, x0, delta_x_dynamic)\n",
    "centralni_dynamicka = central_der(f, x0, delta_x_dynamic)\n",
    "print(f\"pro x0 = {x0}, delta_x = {delta_x}:\")\n",
    "print(f\"dopredna: {dopredna:0,.10f}, zpetna: {zpetna:0,.10f}, centralni: {centralni:0,.10f}\")\n",
    "print(f\"pro x0 = {x0}, delta_x = {delta_x_dynamic}:\")\n",
    "print(f\"dynamicka dopredna: {dopredna_dynamicka:0,.10f}, dynamicka zpetna: {zpetna_dynamicka:0,.10f}, dynamicka centralni: {centralni_dynamicka:0,.10f}\")\n",
    "\n",
    "\n"
   ]
  }
 ],
 "metadata": {
  "kernelspec": {
   "display_name": "venv",
   "language": "python",
   "name": "python3"
  },
  "language_info": {
   "codemirror_mode": {
    "name": "ipython",
    "version": 3
   },
   "file_extension": ".py",
   "mimetype": "text/x-python",
   "name": "python",
   "nbconvert_exporter": "python",
   "pygments_lexer": "ipython3",
   "version": "3.9.1"
  },
  "orig_nbformat": 4
 },
 "nbformat": 4,
 "nbformat_minor": 2
}
